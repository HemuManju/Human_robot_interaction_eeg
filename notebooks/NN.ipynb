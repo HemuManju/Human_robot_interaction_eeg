{
 "cells": [
  {
   "cell_type": "code",
   "execution_count": 1,
   "metadata": {},
   "outputs": [],
   "source": [
    "import torch\n",
    "import numpy as np\n",
    "import pandas as pd\n",
    "import seaborn as sb\n",
    "import matplotlib.pyplot as plt\n",
    "from torch.utils.data import DataLoader, Dataset\n",
    "import torch.nn as nn\n",
    "from scipy.io import loadmat\n",
    "from sklearn.model_selection import train_test_split\n",
    "from visdom import Visdom\n",
    "%run Utility_Functions.ipynb\n",
    "%run parameters.py"
   ]
  },
  {
   "cell_type": "code",
   "execution_count": 2,
   "metadata": {},
   "outputs": [
    {
     "data": {
      "text/plain": [
       "device(type='cuda', index=0)"
      ]
     },
     "execution_count": 2,
     "metadata": {},
     "output_type": "execute_result"
    }
   ],
   "source": [
    "# Data \n",
    "x = loadmat('data.mat')['x']\n",
    "y = loadmat('data.mat')['y']\n",
    "\n",
    "viz = Visdom()\n",
    "# Device configuration \n",
    "device = torch.device('cuda:0' if torch.cuda.is_available() else 'cpu')\n",
    "device # verify which device is being used"
   ]
  },
  {
   "cell_type": "code",
   "execution_count": 3,
   "metadata": {},
   "outputs": [],
   "source": [
    "# Prepare the data for convolution neural network \n",
    "x_train, x_test, y_train, y_test = train_test_split(x, y, test_size = 0.30)\n",
    "\n",
    "class custom_dataset(Dataset):\n",
    "    def __init__(self, x, y):\n",
    "        super(custom_dataset, self).__init__()\n",
    "        self.x = torch.from_numpy(x).type(torch.float32)\n",
    "        self.y = torch.from_numpy(y).type(torch.float32)\n",
    "    \n",
    "    def __getitem__(self, ids):\n",
    "        return self.x[ids], self.y[ids] # 2 index of total force ir index\n",
    "    \n",
    "    def __len__(self):\n",
    "        return self.x.shape[0]\n",
    "\n",
    "# Create datasets \n",
    "train_data = custom_dataset(x_train, y_train)\n",
    "test_data = custom_dataset(x_test, y_test)\n",
    "\n",
    "\n",
    "def get_loss(data):\n",
    "    with torch.no_grad(): \n",
    "        out = model(data.x.to(device))\n",
    "        y_true = data.y.to(device)\n",
    "        error = torch.sqrt(criterion(out, y_true))\n",
    "        error = error.cpu().detach()\n",
    "\n",
    "        return error"
   ]
  },
  {
   "cell_type": "code",
   "execution_count": 4,
   "metadata": {},
   "outputs": [],
   "source": [
    "# Hyper-parameters \n",
    "input_size = x.shape[1]\n",
    "hidden_size = 5\n",
    "output_size = y.shape[1]\n",
    "num_epochs = 500\n",
    "batch_size = 32\n",
    "learning_rate = 0.001\n",
    "\n",
    "# Load datasets \n",
    "train_data_iterator = DataLoader(train_data, batch_size=batch_size, shuffle=True)\n",
    "\n",
    "class NeuralNet(nn.Module):\n",
    "    def __init__(self, input_size, hidden_size, output_size):\n",
    "        super(NeuralNet, self).__init__()\n",
    "        self.input = torch.nn.Linear(input_size, hidden_size)\n",
    "        self.output = torch.nn.Linear(hidden_size, output_size)\n",
    "        \n",
    "    def forward(self, x):\n",
    "        out = self.input(x)\n",
    "        out = torch.tanh(out)\n",
    "        out = self.output(out)\n",
    "        return torch.tanh(out)\n",
    "\n",
    "def get_loss(data):\n",
    "    with torch.no_grad(): \n",
    "        out = model(data.x.to(device))\n",
    "        y_true = data.y.to(device)\n",
    "        error = torch.sqrt(criterion(out, y_true))\n",
    "        error = error.cpu().detach()\n",
    "        return error\n",
    "    \n",
    "    \n",
    "model = NeuralNet(input_size, hidden_size, output_size).to(device)\n",
    "viz.close(win='Accuracy')\n",
    "\n",
    "# Loss and optimizer\n",
    "criterion = nn.MSELoss()\n",
    "optimizer = torch.optim.Adam(model.parameters(), lr=learning_rate)\n",
    "\n",
    "i = 0\n",
    "for epoch in range(num_epochs):\n",
    "    for x_batch, y_batch in train_data_iterator:\n",
    "        # Send the images and labels to gpu \n",
    "        x_batch = x_batch.to(device)\n",
    "        y_batch = y_batch.to(device)\n",
    "        \n",
    "        # Forward pass\n",
    "        out_put = model(x_batch) \n",
    "        loss = torch.sqrt(criterion(out_put, y_batch))\n",
    "        \n",
    "        # Backward and optimize\n",
    "        optimizer.zero_grad() # For batch gradient optimisation\n",
    "        loss.backward()\n",
    "        optimizer.step()\n",
    "        \n",
    "    # Calculate the accuracy\n",
    "    test_accuracy = get_loss(test_data)\n",
    "    train_accuracy = get_loss(train_data)\n",
    "\n",
    "    i = i + 1 \n",
    "    viz.line(X = np.column_stack([i]*2), Y = np.column_stack((train_accuracy, test_accuracy)), win='Accuracy', update='append')"
   ]
  },
  {
   "cell_type": "code",
   "execution_count": null,
   "metadata": {},
   "outputs": [],
   "source": []
  }
 ],
 "metadata": {
  "kernelspec": {
   "display_name": "Python 3",
   "language": "python",
   "name": "python3"
  },
  "language_info": {
   "codemirror_mode": {
    "name": "ipython",
    "version": 3
   },
   "file_extension": ".py",
   "mimetype": "text/x-python",
   "name": "python",
   "nbconvert_exporter": "python",
   "pygments_lexer": "ipython3",
   "version": "3.6.8"
  }
 },
 "nbformat": 4,
 "nbformat_minor": 2
}
