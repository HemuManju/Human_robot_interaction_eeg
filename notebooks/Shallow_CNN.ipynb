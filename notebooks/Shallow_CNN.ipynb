{
 "cells": [
  {
   "cell_type": "code",
   "execution_count": 16,
   "metadata": {},
   "outputs": [],
   "source": [
    "import torch\n",
    "import numpy as np\n",
    "import pandas as pd\n",
    "import seaborn as sb\n",
    "import matplotlib.pyplot as plt\n",
    "from torch.utils.data import DataLoader, Dataset\n",
    "import torch.nn as nn\n",
    "from sklearn.model_selection import train_test_split\n",
    "from visdom import Visdom\n",
    "import torch.nn.functional as F\n",
    "from torch.nn.init import xavier_uniform_\n",
    "%run Utility_Functions.ipynb\n",
    "%run parameters.py"
   ]
  },
  {
   "cell_type": "code",
   "execution_count": 3,
   "metadata": {},
   "outputs": [
    {
     "name": "stderr",
     "output_type": "stream",
     "text": [
      "WARNING:root:Setting up a new session...\n"
     ]
    },
    {
     "name": "stdout",
     "output_type": "stream",
     "text": [
      "(5000, 20, 256) (5000, 2) [0.5074 0.4926]\n",
      "-116.76673911722449 120.9554109493638 4.3431924723336126e-18\n"
     ]
    },
    {
     "data": {
      "text/plain": [
       "device(type='cuda', index=0)"
      ]
     },
     "execution_count": 3,
     "metadata": {},
     "output_type": "execute_result"
    }
   ],
   "source": [
    "# Data import \n",
    "x = np.load('X.npy')\n",
    "y = np.load('Y.npy')\n",
    "\n",
    "# Select only 50% of the data\n",
    "x = x[0:5000, :,:]\n",
    "y = y[0:5000, :]\n",
    "\n",
    "print(x.shape, y.shape, sum(y)/len(y))\n",
    "print(np.min(x), np.max(x), np.mean(x))\n",
    "\n",
    "# Visualization\n",
    "viz = Visdom()\n",
    "opts = dict(legend=['Training','Validation', 'Testing'], xlabel = 'Iteration', ylabel = 'Accuracy', title = 'EEG Classification')\n",
    "# Device configuration \n",
    "device = torch.device('cuda:0' if torch.cuda.is_available() else 'cpu')\n",
    "torch.cuda.empty_cache()\n",
    "device # verify which device is being used"
   ]
  },
  {
   "cell_type": "code",
   "execution_count": 5,
   "metadata": {},
   "outputs": [
    {
     "name": "stdout",
     "output_type": "stream",
     "text": [
      "[0.50666667 0.49333333] [0.513 0.487]\n"
     ]
    }
   ],
   "source": [
    "# Prepare the data for convolution neural network \n",
    "x_train, x_test, y_train, y_test = train_test_split(x, y, test_size = 0.40)\n",
    "x_test, x_valid, y_test, y_valid = train_test_split(x_test, y_test, test_size = 0.50)\n",
    "\n",
    "\n",
    "print(sum(y_train)/len(y_train), sum(y_test)/len(y_test))\n",
    "\n",
    "class custom_dataset(Dataset):\n",
    "    def __init__(self, x, y):\n",
    "        super(custom_dataset, self).__init__()\n",
    "        self.x = torch.from_numpy(x).type(torch.float32)\n",
    "        self.y = torch.from_numpy(y).type(torch.float32)\n",
    "    \n",
    "    def __getitem__(self, ids):\n",
    "        return self.x[ids], self.y[ids] # 2 index of total force ir index\n",
    "    \n",
    "    def __len__(self):\n",
    "        return self.x.shape[0]\n",
    "\n",
    "# Create datasets \n",
    "train_data = custom_dataset(x_train, y_train)\n",
    "valid_data = custom_dataset(x_valid, y_valid)\n",
    "test_data = custom_dataset(x_test, y_test)\n",
    "    \n",
    "# Hyper-parameters \n",
    "OUTPUT = 2\n",
    "NUM_EPOCHS = 500\n",
    "BATCH_SIZE = 32\n",
    "LEARNING_RATE = 0.0001\n",
    "# WEIGHT_DECAY = 0.0001\n",
    "    \n",
    "# Load datasets \n",
    "train_data_iterator = DataLoader(train_data, batch_size=BATCH_SIZE, shuffle=True)\n",
    "valid_data_iterator = DataLoader(valid_data, batch_size=BATCH_SIZE, shuffle=True)\n",
    "test_data_iterator = DataLoader(test_data, batch_size=BATCH_SIZE, shuffle=True)"
   ]
  },
  {
   "cell_type": "code",
   "execution_count": 18,
   "metadata": {},
   "outputs": [
    {
     "ename": "KeyboardInterrupt",
     "evalue": "",
     "output_type": "error",
     "traceback": [
      "\u001b[0;31m---------------------------------------------------------------------------\u001b[0m",
      "\u001b[0;31mKeyboardInterrupt\u001b[0m                         Traceback (most recent call last)",
      "\u001b[0;32m<ipython-input-18-70928e581245>\u001b[0m in \u001b[0;36m<module>\u001b[0;34m\u001b[0m\n\u001b[1;32m     62\u001b[0m         \u001b[0;31m# Forward pass\u001b[0m\u001b[0;34m\u001b[0m\u001b[0;34m\u001b[0m\u001b[0;34m\u001b[0m\u001b[0m\n\u001b[1;32m     63\u001b[0m         \u001b[0mout_put\u001b[0m \u001b[0;34m=\u001b[0m \u001b[0mmodel\u001b[0m\u001b[0;34m(\u001b[0m\u001b[0mx_batch\u001b[0m\u001b[0;34m)\u001b[0m\u001b[0;34m\u001b[0m\u001b[0;34m\u001b[0m\u001b[0m\n\u001b[0;32m---> 64\u001b[0;31m         \u001b[0mloss\u001b[0m \u001b[0;34m=\u001b[0m \u001b[0mcriterion\u001b[0m\u001b[0;34m(\u001b[0m\u001b[0mout_put\u001b[0m\u001b[0;34m,\u001b[0m \u001b[0my_batch\u001b[0m\u001b[0;34m)\u001b[0m\u001b[0;34m\u001b[0m\u001b[0;34m\u001b[0m\u001b[0m\n\u001b[0m\u001b[1;32m     65\u001b[0m \u001b[0;34m\u001b[0m\u001b[0m\n\u001b[1;32m     66\u001b[0m         \u001b[0;31m# Backward and optimize\u001b[0m\u001b[0;34m\u001b[0m\u001b[0;34m\u001b[0m\u001b[0;34m\u001b[0m\u001b[0m\n",
      "\u001b[0;32m~/anaconda3/envs/tom/lib/python3.6/site-packages/torch/nn/modules/module.py\u001b[0m in \u001b[0;36m__call__\u001b[0;34m(self, *input, **kwargs)\u001b[0m\n\u001b[1;32m    487\u001b[0m             \u001b[0mresult\u001b[0m \u001b[0;34m=\u001b[0m \u001b[0mself\u001b[0m\u001b[0;34m.\u001b[0m\u001b[0m_slow_forward\u001b[0m\u001b[0;34m(\u001b[0m\u001b[0;34m*\u001b[0m\u001b[0minput\u001b[0m\u001b[0;34m,\u001b[0m \u001b[0;34m**\u001b[0m\u001b[0mkwargs\u001b[0m\u001b[0;34m)\u001b[0m\u001b[0;34m\u001b[0m\u001b[0;34m\u001b[0m\u001b[0m\n\u001b[1;32m    488\u001b[0m         \u001b[0;32melse\u001b[0m\u001b[0;34m:\u001b[0m\u001b[0;34m\u001b[0m\u001b[0;34m\u001b[0m\u001b[0m\n\u001b[0;32m--> 489\u001b[0;31m             \u001b[0mresult\u001b[0m \u001b[0;34m=\u001b[0m \u001b[0mself\u001b[0m\u001b[0;34m.\u001b[0m\u001b[0mforward\u001b[0m\u001b[0;34m(\u001b[0m\u001b[0;34m*\u001b[0m\u001b[0minput\u001b[0m\u001b[0;34m,\u001b[0m \u001b[0;34m**\u001b[0m\u001b[0mkwargs\u001b[0m\u001b[0;34m)\u001b[0m\u001b[0;34m\u001b[0m\u001b[0;34m\u001b[0m\u001b[0m\n\u001b[0m\u001b[1;32m    490\u001b[0m         \u001b[0;32mfor\u001b[0m \u001b[0mhook\u001b[0m \u001b[0;32min\u001b[0m \u001b[0mself\u001b[0m\u001b[0;34m.\u001b[0m\u001b[0m_forward_hooks\u001b[0m\u001b[0;34m.\u001b[0m\u001b[0mvalues\u001b[0m\u001b[0;34m(\u001b[0m\u001b[0;34m)\u001b[0m\u001b[0;34m:\u001b[0m\u001b[0;34m\u001b[0m\u001b[0;34m\u001b[0m\u001b[0m\n\u001b[1;32m    491\u001b[0m             \u001b[0mhook_result\u001b[0m \u001b[0;34m=\u001b[0m \u001b[0mhook\u001b[0m\u001b[0;34m(\u001b[0m\u001b[0mself\u001b[0m\u001b[0;34m,\u001b[0m \u001b[0minput\u001b[0m\u001b[0;34m,\u001b[0m \u001b[0mresult\u001b[0m\u001b[0;34m)\u001b[0m\u001b[0;34m\u001b[0m\u001b[0;34m\u001b[0m\u001b[0m\n",
      "\u001b[0;32m~/anaconda3/envs/tom/lib/python3.6/site-packages/torch/nn/modules/loss.py\u001b[0m in \u001b[0;36mforward\u001b[0;34m(self, input, target)\u001b[0m\n\u001b[1;32m    502\u001b[0m     \u001b[0;34m@\u001b[0m\u001b[0mweak_script_method\u001b[0m\u001b[0;34m\u001b[0m\u001b[0;34m\u001b[0m\u001b[0m\n\u001b[1;32m    503\u001b[0m     \u001b[0;32mdef\u001b[0m \u001b[0mforward\u001b[0m\u001b[0;34m(\u001b[0m\u001b[0mself\u001b[0m\u001b[0;34m,\u001b[0m \u001b[0minput\u001b[0m\u001b[0;34m,\u001b[0m \u001b[0mtarget\u001b[0m\u001b[0;34m)\u001b[0m\u001b[0;34m:\u001b[0m\u001b[0;34m\u001b[0m\u001b[0;34m\u001b[0m\u001b[0m\n\u001b[0;32m--> 504\u001b[0;31m         \u001b[0;32mreturn\u001b[0m \u001b[0mF\u001b[0m\u001b[0;34m.\u001b[0m\u001b[0mbinary_cross_entropy\u001b[0m\u001b[0;34m(\u001b[0m\u001b[0minput\u001b[0m\u001b[0;34m,\u001b[0m \u001b[0mtarget\u001b[0m\u001b[0;34m,\u001b[0m \u001b[0mweight\u001b[0m\u001b[0;34m=\u001b[0m\u001b[0mself\u001b[0m\u001b[0;34m.\u001b[0m\u001b[0mweight\u001b[0m\u001b[0;34m,\u001b[0m \u001b[0mreduction\u001b[0m\u001b[0;34m=\u001b[0m\u001b[0mself\u001b[0m\u001b[0;34m.\u001b[0m\u001b[0mreduction\u001b[0m\u001b[0;34m)\u001b[0m\u001b[0;34m\u001b[0m\u001b[0;34m\u001b[0m\u001b[0m\n\u001b[0m\u001b[1;32m    505\u001b[0m \u001b[0;34m\u001b[0m\u001b[0m\n\u001b[1;32m    506\u001b[0m \u001b[0;34m\u001b[0m\u001b[0m\n",
      "\u001b[0;32m~/anaconda3/envs/tom/lib/python3.6/site-packages/torch/nn/functional.py\u001b[0m in \u001b[0;36mbinary_cross_entropy\u001b[0;34m(input, target, weight, size_average, reduce, reduction)\u001b[0m\n\u001b[1;32m   2025\u001b[0m \u001b[0;34m\u001b[0m\u001b[0m\n\u001b[1;32m   2026\u001b[0m     return torch._C._nn.binary_cross_entropy(\n\u001b[0;32m-> 2027\u001b[0;31m         input, target, weight, reduction_enum)\n\u001b[0m\u001b[1;32m   2028\u001b[0m \u001b[0;34m\u001b[0m\u001b[0m\n\u001b[1;32m   2029\u001b[0m \u001b[0;34m\u001b[0m\u001b[0m\n",
      "\u001b[0;31mKeyboardInterrupt\u001b[0m: "
     ]
    }
   ],
   "source": [
    "def weights_init(m):\n",
    "    if isinstance(m, nn.Conv2d):\n",
    "        xavier_uniform_(m.weight.data)\n",
    "\n",
    "def accuracy(data_iterator):\n",
    "    with torch.no_grad():\n",
    "        total = 0\n",
    "        length = 0\n",
    "        for x, y in data_iterator:\n",
    "            out_put = model(x.to(device))\n",
    "            out_put = out_put.cpu().detach()\n",
    "            total += (out_put.argmax(dim=1)==y.argmax(dim=1)).float().sum()\n",
    "            length += len(y)\n",
    "        accuracy = total/length\n",
    "        return accuracy\n",
    "\n",
    "class ConvNet(nn.Module):\n",
    "    def __init__(self, OUTPUT):\n",
    "        super(ConvNet, self).__init__()\n",
    "        self.net_1 = nn.Sequential(\n",
    "            nn.Conv2d(1, 40, kernel_size=(1, 15), stride=1),\n",
    "            nn.Conv2d(40, 40, kernel_size=(10, 1), stride=1, bias=False),\n",
    "            nn.ELU(),\n",
    "            nn.BatchNorm2d(40, momentum=0.1, affine=True)\n",
    "            )\n",
    "        \n",
    "        self.net_2 = nn.Sequential(\n",
    "            nn.AvgPool2d(kernel_size=(1, 75), stride=(1, 15)),\n",
    "            nn.Conv2d(40, OUTPUT, kernel_size=(11, 12), stride=1),\n",
    "            nn.Dropout(0.25)\n",
    "            )\n",
    "        \n",
    "    def forward(self, x):\n",
    "        x = x.view(-1, 1, n_electrodes, epoch_length*s_freq)\n",
    "        out = self.net_1(x)  \n",
    "        out = out*out\n",
    "        out = self.net_2(out)\n",
    "        out = torch.log(torch.clamp(out, min=1e-6))\n",
    "        out = torch.squeeze(out)\n",
    "        out = torch.sigmoid(out)\n",
    "    \n",
    "        return out\n",
    "    \n",
    "# An instance of model\n",
    "model = ConvNet(OUTPUT).to(device)\n",
    "# model.apply(weights_init)\n",
    "\n",
    "viz.close(win='Accuracy')\n",
    "  \n",
    "# Loss and optimizer\n",
    "criterion = nn.BCELoss()\n",
    "optimizer = torch.optim.Adam(model.parameters(), lr=LEARNING_RATE)\n",
    "\n",
    "i = 0\n",
    "\n",
    "for epoch in range(NUM_EPOCHS):\n",
    "    for x_batch, y_batch in train_data_iterator:\n",
    "        # Send the images and labels to gpu \n",
    "        x_batch = x_batch.to(device)\n",
    "        y_batch = y_batch.to(device)\n",
    "\n",
    "        # Forward pass\n",
    "        out_put = model(x_batch) \n",
    "        loss = criterion(out_put, y_batch)\n",
    "\n",
    "        # Backward and optimize\n",
    "        optimizer.zero_grad() # For batch gradient optimisation\n",
    "        loss.backward()\n",
    "        optimizer.step()\n",
    "        \n",
    "# Calculate the accuracy\n",
    "    train_accuracy = accuracy(train_data_iterator)\n",
    "    test_accuracy = accuracy(test_data_iterator)\n",
    "\n",
    "    i = i + 1 \n",
    "    viz.line(X = np.column_stack([i]*2), Y = np.column_stack((train_accuracy, test_accuracy)), opts = opts, win='Accuracy', update='append')"
   ]
  },
  {
   "cell_type": "code",
   "execution_count": null,
   "metadata": {},
   "outputs": [],
   "source": []
  },
  {
   "cell_type": "code",
   "execution_count": null,
   "metadata": {},
   "outputs": [],
   "source": []
  },
  {
   "cell_type": "code",
   "execution_count": null,
   "metadata": {},
   "outputs": [],
   "source": []
  },
  {
   "cell_type": "code",
   "execution_count": null,
   "metadata": {},
   "outputs": [],
   "source": []
  },
  {
   "cell_type": "code",
   "execution_count": null,
   "metadata": {},
   "outputs": [],
   "source": []
  },
  {
   "cell_type": "code",
   "execution_count": null,
   "metadata": {},
   "outputs": [],
   "source": []
  }
 ],
 "metadata": {
  "kernelspec": {
   "display_name": "Python 3",
   "language": "python",
   "name": "python3"
  },
  "language_info": {
   "codemirror_mode": {
    "name": "ipython",
    "version": 3
   },
   "file_extension": ".py",
   "mimetype": "text/x-python",
   "name": "python",
   "nbconvert_exporter": "python",
   "pygments_lexer": "ipython3",
   "version": "3.6.8"
  }
 },
 "nbformat": 4,
 "nbformat_minor": 2
}
