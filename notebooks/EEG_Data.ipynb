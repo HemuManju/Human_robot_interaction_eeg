{
 "cells": [
  {
   "cell_type": "code",
   "execution_count": 1,
   "metadata": {},
   "outputs": [
    {
     "name": "stderr",
     "output_type": "stream",
     "text": [
      "ERROR:root:File `'parameters.py'` not found.\n"
     ]
    }
   ],
   "source": [
    "from tqdm import tqdm\n",
    "from itertools import product\n",
    "from scipy.signal import welch\n",
    "%run Utility_Functions.ipynb # import all the utility functions\n",
    "%run parameters.py # read parameters from the text file "
   ]
  },
  {
   "cell_type": "code",
   "execution_count": 14,
   "metadata": {},
   "outputs": [
    {
     "name": "stderr",
     "output_type": "stream",
     "text": [
      "72it [00:05,  7.40it/s]\n"
     ]
    },
    {
     "name": "stdout",
     "output_type": "stream",
     "text": [
      "All done!\n"
     ]
    }
   ],
   "source": [
    "def _eeg_data(subject, trial):\n",
    "    \"\"\"\n",
    "    Get the eeg values of the \n",
    "\n",
    "    Parameter\n",
    "    ----------\n",
    "    subject : string of subject ID e.g. 7707 \n",
    "    trial   : trial of which the powed spectral  \n",
    "    \n",
    "    Returns\n",
    "    ----------\n",
    "    eeg_data : eoched eeg data\n",
    "\n",
    "    \"\"\"\n",
    "    read_path = '../Cleaned Data/' + subject + '/EEG/'\n",
    "    cleaned_epochs = mne.read_epochs(read_path + subject + '_' + trial + '_' + str(epoch_length) + '_cleaned_epo.fif', verbose=False)\n",
    "    \n",
    "    # Convert to micro volts \n",
    "    eeg_epoch_data = cleaned_epochs.get_data()*1e6\n",
    "        \n",
    "    return eeg_epoch_data\n",
    "\n",
    "\n",
    "def _one_hot_encode(length, category):\n",
    "    \"\"\"\n",
    "    Get the one hot encoded value\n",
    "\n",
    "    Parameter\n",
    "    ----------\n",
    "    length     : required lenght of the matrix (m x category)\n",
    "    category   : caterory \n",
    "    \n",
    "    Returns\n",
    "    ----------\n",
    "    y : one hot encoded matrix (m x category)\n",
    "\n",
    "    \"\"\"\n",
    "    y = np.zeros((length, len(category)))\n",
    "    y[:, category.index(1)]=1\n",
    "    \n",
    "    return y\n",
    "    \n",
    "\n",
    "\n",
    "def all_subject_data(subjects, trials):\n",
    "    \"\"\"\n",
    "    Get the ir_index of all the subjects\n",
    "\n",
    "    Parameter\n",
    "    ----------\n",
    "    subject : string of subject ID e.g. 7707 \n",
    "    trial   : trial of which the powed spectral  \n",
    "    \n",
    "    Returns\n",
    "    ----------\n",
    "    overall_data : numpy array containing all the ir_index, signature: [n_subjects, n_trials]\n",
    "\n",
    "    \"\"\"\n",
    "    x = np.empty([0, n_electrodes, 256*epoch_length])\n",
    "    y = np.empty([0, 2])\n",
    "    \n",
    "    # Loop over all subjects and trials\n",
    "    for subject, trial in tqdm(product(subjects, trials)):\n",
    "        \n",
    "        if (trial=='LowFine') or (trial=='HighGross'):\n",
    "            x_temp = _eeg_data(subject, trial)\n",
    "            y_temp = _one_hot_encode(len(x_temp), [0,1])\n",
    "            \n",
    "        elif trial=='HighFine':\n",
    "            x_temp = _eeg_data(subject, trial)\n",
    "            y_temp = _one_hot_encode(len(x_temp), [1,0])\n",
    "        elif trial=='LowGross':\n",
    "            x_temp = _eeg_data(subject, trial)\n",
    "            y_temp = _one_hot_encode(len(x_temp), [1,0])\n",
    "        \n",
    "        x_temp = x_temp[:,0:n_electrodes,0:256*epoch_length]\n",
    "        y = np.concatenate((y, y_temp), axis=0)\n",
    "        x = np.concatenate((x, x_temp), axis=0)\n",
    "    \n",
    "    return x, y\n",
    "\n",
    "\n",
    "if __name__ == \"__main__\":\n",
    "    \n",
    "    save = True\n",
    "    multi_class = False\n",
    "    x, y = all_subject_data(subjects, trials)\n",
    "    \n",
    "    if save:\n",
    "        if multi_class:\n",
    "            np.save('Y_Multi_Class.npy', y)\n",
    "            np.save('X_Multi_Class.npy', x)\n",
    "        else:\n",
    "            np.save('Y.npy', y)\n",
    "            np.save('X.npy', x)\n",
    "            \n",
    "    print('All done!')"
   ]
  },
  {
   "cell_type": "code",
   "execution_count": null,
   "metadata": {},
   "outputs": [],
   "source": [
    "\n",
    "    "
   ]
  },
  {
   "cell_type": "code",
   "execution_count": null,
   "metadata": {},
   "outputs": [],
   "source": []
  },
  {
   "cell_type": "code",
   "execution_count": null,
   "metadata": {},
   "outputs": [],
   "source": []
  }
 ],
 "metadata": {
  "kernelspec": {
   "display_name": "Python 3",
   "language": "python",
   "name": "python3"
  },
  "language_info": {
   "codemirror_mode": {
    "name": "ipython",
    "version": 3
   },
   "file_extension": ".py",
   "mimetype": "text/x-python",
   "name": "python",
   "nbconvert_exporter": "python",
   "pygments_lexer": "ipython3",
   "version": "3.6.8"
  }
 },
 "nbformat": 4,
 "nbformat_minor": 2
}
