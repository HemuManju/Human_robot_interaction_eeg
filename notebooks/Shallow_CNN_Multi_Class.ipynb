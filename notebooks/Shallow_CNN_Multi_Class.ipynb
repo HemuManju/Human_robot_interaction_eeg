{
 "cells": [
  {
   "cell_type": "code",
   "execution_count": 19,
   "metadata": {},
   "outputs": [],
   "source": [
    "import torch\n",
    "import numpy as np\n",
    "import pandas as pd\n",
    "import seaborn as sb\n",
    "import matplotlib.pyplot as plt\n",
    "from torch.utils.data import DataLoader, Dataset\n",
    "import torch.nn as nn\n",
    "from sklearn.model_selection import train_test_split\n",
    "from visdom import Visdom\n",
    "import torch.nn.functional as F\n",
    "from torch.nn.init import xavier_normal_\n",
    "%run Utility_Functions.ipynb\n",
    "%run parameters.py"
   ]
  },
  {
   "cell_type": "code",
   "execution_count": 20,
   "metadata": {},
   "outputs": [
    {
     "name": "stderr",
     "output_type": "stream",
     "text": [
      "WARNING:root:Setting up a new session...\n"
     ]
    },
    {
     "name": "stdout",
     "output_type": "stream",
     "text": [
      "(8224, 20, 256) (8224, 3) [0.35907101 0.33110409 0.3098249 ]\n",
      "-127.35785764448343 120.9554109493638 1.1879818356883972e-19\n"
     ]
    },
    {
     "data": {
      "text/plain": [
       "device(type='cuda', index=0)"
      ]
     },
     "execution_count": 20,
     "metadata": {},
     "output_type": "execute_result"
    }
   ],
   "source": [
    "# Data import \n",
    "x = np.load('X_Multi_Class.npy')\n",
    "y = np.load('Y_Multi_Class.npy')\n",
    "\n",
    "# Balanced the dataset \n",
    "x_balanced, y_balanced = _make_balanced(x, y)\n",
    "\n",
    "x = x_balanced\n",
    "y = y_balanced\n",
    "\n",
    "print(x.shape, y.shape, sum(y)/len(y))\n",
    "print(np.min(x), np.max(x), np.mean(x))\n",
    "\n",
    "# Visualization\n",
    "viz = Visdom()\n",
    "opts = dict(legend=['Training','Validation','Testing'], xlabel = 'Iteration', ylabel = 'Accuracy', title = 'EEG Classification')\n",
    "# Device configuration \n",
    "device = torch.device('cuda:0' if torch.cuda.is_available() else 'cpu')\n",
    "torch.cuda.empty_cache()\n",
    "device # verify which device is being used"
   ]
  },
  {
   "cell_type": "code",
   "execution_count": 28,
   "metadata": {},
   "outputs": [],
   "source": [
    "# Prepare the data for convolution neural network \n",
    "x_train, x_test, y_train, y_test = train_test_split(x, y, test_size = 0.40)\n",
    "x_valid, x_test, y_valid, y_test = train_test_split(x_test, y_test, test_size = 0.50)\n",
    "\n",
    "\n",
    "class custom_dataset(Dataset):\n",
    "    def __init__(self, x, y):\n",
    "        super(custom_dataset, self).__init__()\n",
    "        self.x = torch.from_numpy(x).type(torch.float32)\n",
    "        self.y = torch.from_numpy(y).type(torch.float32)\n",
    "    \n",
    "    def __getitem__(self, ids):\n",
    "        return self.x[ids], self.y[ids] # 2 index of total force ir index\n",
    "    \n",
    "    def __len__(self):\n",
    "        return self.x.shape[0]\n",
    "\n",
    "# Create datasets \n",
    "train_data = custom_dataset(x_train, y_train)\n",
    "valid_data = custom_dataset(x_valid, y_valid)\n",
    "test_data = custom_dataset(x_test, y_test)\n",
    "    \n",
    "# Hyper-parameters \n",
    "OUTPUT = 3\n",
    "NUM_EPOCHS = 500\n",
    "BATCH_SIZE = 64\n",
    "LEARNING_RATE = 0.001\n",
    "# WEIGHT_DECAY = 0.0001\n",
    "BIAS = True\n",
    "    \n",
    "# Load datasets \n",
    "train_data_iterator = DataLoader(train_data, batch_size=BATCH_SIZE, shuffle=True)\n",
    "valid_data_iterator = DataLoader(valid_data, batch_size=BATCH_SIZE, shuffle=True)\n",
    "test_data_iterator = DataLoader(test_data, batch_size=BATCH_SIZE, shuffle=True)"
   ]
  },
  {
   "cell_type": "code",
   "execution_count": null,
   "metadata": {},
   "outputs": [],
   "source": [
    "def weights_init(m):\n",
    "    if isinstance(m, nn.Conv2d):\n",
    "        xavier_normal_(m.weight.data)\n",
    "        \n",
    "def accuracy(data_iterator):\n",
    "    with torch.no_grad():\n",
    "        total = 0\n",
    "        length = 0\n",
    "        for x, y in data_iterator:\n",
    "            out_put = model(x.to(device))\n",
    "            out_put = out_put.cpu().detach()\n",
    "            total += (out_put.argmax(dim=1)==y.argmax(dim=1)).float().sum()\n",
    "            length += len(y)\n",
    "        accuracy = total/length\n",
    "        return accuracy\n",
    "\n",
    "class ConvNet(nn.Module):\n",
    "    def __init__(self, OUTPUT):\n",
    "        super(ConvNet, self).__init__()\n",
    "        self.net_1 = nn.Sequential(\n",
    "            nn.Conv2d(1, 20, kernel_size=(1, 15), stride=1, bias=False),\n",
    "            nn.Conv2d(20, 20, kernel_size=(10, 10), stride=1, bias=False),\n",
    "            nn.BatchNorm2d(20, momentum=0.1, affine=True)\n",
    "            )\n",
    "        \n",
    "        self.pool = nn.AvgPool2d(kernel_size=(1, 75), stride=(1, 15))\n",
    "        \n",
    "        self.net_2 = nn.Sequential(\n",
    "            nn.Conv2d(20, OUTPUT, kernel_size=(11, 11), stride=1),\n",
    "            nn.LogSoftmax()\n",
    "            )\n",
    "        \n",
    "    def forward(self, x):\n",
    "        x = x.view(-1, 1, n_electrodes, epoch_length*s_freq)\n",
    "        out = self.net_1(x)  \n",
    "        out = out*out\n",
    "        out = self.pool(out)\n",
    "        out = torch.log(torch.clamp(out, min=1e-6))\n",
    "        out = self.net_2(out)\n",
    "        out = torch.squeeze(out)\n",
    "    \n",
    "        return out\n",
    "    \n",
    "# An instance of model\n",
    "model = ConvNet(OUTPUT).to(device)\n",
    "model.apply(weights_init)\n",
    "\n",
    "viz.close(win='Accuracy')\n",
    "  \n",
    "# Loss and optimizer\n",
    "criterion = nn.CrossEntropyLoss()\n",
    "optimizer = torch.optim.Adam(model.parameters(), lr=LEARNING_RATE)\n",
    "\n",
    "i = 0\n",
    "\n",
    "for epoch in range(NUM_EPOCHS):\n",
    "    for x_batch, y_batch in train_data_iterator:\n",
    "        # Send the images and labels to gpu \n",
    "        x_batch = x_batch.to(device)\n",
    "        y_batch = (torch.max(y_batch, dim=1)[1]).to(device)\n",
    "\n",
    "        # Forward pass\n",
    "        out_put = model(x_batch) \n",
    "        loss = criterion(out_put, y_batch)\n",
    "\n",
    "        # Backward and optimize\n",
    "        optimizer.zero_grad() # For batch gradient optimisation\n",
    "        loss.backward()\n",
    "        optimizer.step()\n",
    "        \n",
    "# Calculate the accuracy\n",
    "    train_accuracy = accuracy(train_data_iterator)\n",
    "    valid_accuracy = accuracy(valid_data_iterator)\n",
    "    test_accuracy = accuracy(test_data_iterator)\n",
    "\n",
    "    i = i + 1 \n",
    "    viz.line(X = np.column_stack([i]*3), Y = np.column_stack((train_accuracy, valid_accuracy, test_accuracy)), opts = opts, win='Accuracy', update='append')"
   ]
  },
  {
   "cell_type": "code",
   "execution_count": null,
   "metadata": {},
   "outputs": [],
   "source": []
  },
  {
   "cell_type": "code",
   "execution_count": null,
   "metadata": {},
   "outputs": [],
   "source": []
  },
  {
   "cell_type": "code",
   "execution_count": null,
   "metadata": {},
   "outputs": [],
   "source": []
  },
  {
   "cell_type": "code",
   "execution_count": null,
   "metadata": {},
   "outputs": [],
   "source": []
  },
  {
   "cell_type": "code",
   "execution_count": null,
   "metadata": {},
   "outputs": [],
   "source": []
  },
  {
   "cell_type": "code",
   "execution_count": null,
   "metadata": {},
   "outputs": [],
   "source": []
  }
 ],
 "metadata": {
  "kernelspec": {
   "display_name": "Python 3",
   "language": "python",
   "name": "python3"
  },
  "language_info": {
   "codemirror_mode": {
    "name": "ipython",
    "version": 3
   },
   "file_extension": ".py",
   "mimetype": "text/x-python",
   "name": "python",
   "nbconvert_exporter": "python",
   "pygments_lexer": "ipython3",
   "version": "3.6.8"
  }
 },
 "nbformat": 4,
 "nbformat_minor": 2
}
