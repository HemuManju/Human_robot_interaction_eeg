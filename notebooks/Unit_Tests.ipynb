{
 "cells": [
  {
   "cell_type": "code",
   "execution_count": 31,
   "metadata": {},
   "outputs": [],
   "source": [
    "import pytest\n",
    "from scipy.stats import zscore\n",
    "from mne.preprocessing import create_ecg_epochs\n",
    "from sklearn.model_selection import train_test_split\n",
    "%run parameters.py\n",
    "%run Utility_Functions.ipynb"
   ]
  },
  {
   "cell_type": "code",
   "execution_count": null,
   "metadata": {},
   "outputs": [],
   "source": [
    "%matplotlib qt5\n",
    "data = np.load('All_Subject_IR_Index_'+str(epoch_length)+'.npy')\n",
    "print(data.shape)\n",
    "sb.set()\n",
    "def ir_plot(data):\n",
    "    for i, subject in enumerate(subjects):\n",
    "        temp = []\n",
    "        for j, trial in enumerate(trials):\n",
    "            temp.append(data[i][j][:])\n",
    "        plt.subplot(3,6,i+1)\n",
    "        plt.boxplot(temp, showfliers=False)\n",
    "    plt.tight_layout()\n",
    "    \n",
    "ir_plot(data)\n",
    "\n",
    "\n",
    "data = np.load('All_Subject_IR_Index_'+str(epoch_length)+'.npy')\n",
    "print(data.shape)\n",
    "\n",
    "plt.figure()\n",
    "def ir_plot(data):\n",
    "    for i, subject in enumerate(subjects):\n",
    "        temp = []\n",
    "        for j, trial in enumerate(trials):\n",
    "            if trial=='HighFine' or trial=='LowFine':\n",
    "                temp.append(data[i][j][:])\n",
    "        plt.subplot(3,6,i+1)\n",
    "        for element in temp:\n",
    "            plt.plot(element)\n",
    "    plt.tight_layout()\n",
    "    \n",
    "def min_max(data):\n",
    "    data -= data.min()\n",
    "#     data /= data.ptp()\n",
    "    \n",
    "    return data\n",
    "\n",
    "plt.figure()\n",
    "def ir_plot(data):\n",
    "    for i, subject in enumerate(subjects):\n",
    "        temp = []\n",
    "        for j, trial in enumerate(trials):\n",
    "            if trial=='HighFine' or trial=='LowFine':\n",
    "                temp.append(data[i][j][:])\n",
    "        temp_z = zscore(np.vstack((np.expand_dims(temp[0], axis=1),np.expand_dims(temp[1], axis=1))))\n",
    "        plt.plot(temp_z[0:len(temp[0])], 'r')\n",
    "        plt.plot(temp_z[len(temp[0]):], 'b')\n",
    "    plt.tight_layout()\n",
    "    \n",
    "def test_epoch_length(subjects, trials):\n",
    "    s = []\n",
    "    for subject in subjects:\n",
    "            for trial in trials:\n",
    "                read_eeg_path = '../Cleaned Data/' + subject + '/EEG/'\n",
    "                read_force_path = '../Cleaned Data/' + subject + '/Force/'\n",
    "                cleaned_eeg = mne.read_epochs(read_eeg_path + subject + '_' + trial + '_' + str(epoch_length) \n",
    "                                              + '_cleaned_epo.fif', verbose=False)\n",
    "                cleaned_force = mne.read_epochs(read_force_path + subject + '_' + trial + '_' + str(epoch_length) \n",
    "                                              + '_cleaned_epo.fif', verbose=False)\n",
    "                eeg = cleaned_eeg.get_data()\n",
    "                force = cleaned_force.get_data()\n",
    "                \n",
    "                # Check whether eeg and force data are same\n",
    "                assert eeg.shape[0]==force.shape[0]\n",
    "            s.append(subject)\n",
    "         \n",
    "        # Check whether all subjects were tested\n",
    "    assert len(s)==len(subjects), 'Huston! We have got a problem!'\n",
    "    \n",
    "    return 'Reached moon!'\n",
    "\n",
    "\n",
    "def test_data():\n",
    "    x = np.load('PSD_X_Data_' + str(epoch_length) + '.npy')\n",
    "    y = np.load('IR_Y_Data_' + str(epoch_length) + '.npy')\n",
    "        \n",
    "    assert x.shape[0]==y.shape[0], \"Houston we've got a problem!\"\n",
    "    \n",
    "    \n",
    "def test_psd_image():\n",
    "    x = np.load('PSD_X_Data_' + str(epoch_length) +'.npy')\n",
    "    \n",
    "    plt.imshow(x[5,:,0].reshape(image_size, image_size))\n",
    "    \n",
    "def test_x_y_length():\n",
    "    x = np.load('X.npy')\n",
    "    y = np.load('Y.npy')\n",
    "    assert x.shape[0]==y.shape[0], 'Huston! We have got a problem!'\n",
    "    \n",
    "    return 'Reached moon!'"
   ]
  },
  {
   "cell_type": "code",
   "execution_count": 29,
   "metadata": {},
   "outputs": [
    {
     "name": "stdout",
     "output_type": "stream",
     "text": [
      "[0.26972963 0.4975338  0.23273657]\n"
     ]
    },
    {
     "data": {
      "text/plain": [
       "'Reached moon!'"
      ]
     },
     "execution_count": 29,
     "metadata": {},
     "output_type": "execute_result"
    }
   ],
   "source": [
    "def test_x_y_length():\n",
    "    x = np.load('X.npy')\n",
    "    y = np.load('Y.npy')\n",
    "    print(sum(y)/len(y))\n",
    "    assert x.shape[0]==y.shape[0], 'Huston! We have got a problem!'\n",
    "    \n",
    "    return 'Reached moon!'\n",
    "\n",
    "test_x_y_length()"
   ]
  },
  {
   "cell_type": "code",
   "execution_count": 50,
   "metadata": {},
   "outputs": [
    {
     "name": "stdout",
     "output_type": "stream",
     "text": [
      "(10948, 20, 256)\n",
      "[ True  True  True ... False False False]\n",
      "(2953, 20, 256)\n"
     ]
    }
   ],
   "source": [
    "x = np.load('X.npy')\n",
    "y = np.load('Y.npy')\n",
    "\n",
    "print(x.shape)\n",
    "\n",
    "x_normal = x[np.argmax(y, axis=1)==1,:,:]\n",
    "y_normal = y[np.argmax(y, axis=1)==1]\n",
    "\n",
    "print(np.argmax(y, axis=1)==0)\n",
    "\n",
    "x_low = x[np.argmax(y, axis=1)==0,:,:]\n",
    "y_low = y[np.argmax(y, axis=1)==0]\n",
    "\n",
    "print(x_low.shape)\n",
    "\n",
    "x_high = x[np.argmax(y, axis=1)==2,:,:]\n",
    "y_high = y[np.argmax(y, axis=1)==2]\n",
    "\n",
    "x_normal, x_test, y_normal, y_test = train_test_split(x_normal, y_normal, test_size = 0.50)\n",
    "\n",
    "x_balanced = np.vstack((x_low, x_normal, x_high))"
   ]
  },
  {
   "cell_type": "code",
   "execution_count": 51,
   "metadata": {},
   "outputs": [
    {
     "data": {
      "text/plain": [
       "(8224, 20, 256)"
      ]
     },
     "execution_count": 51,
     "metadata": {},
     "output_type": "execute_result"
    }
   ],
   "source": []
  },
  {
   "cell_type": "code",
   "execution_count": 23,
   "metadata": {},
   "outputs": [
    {
     "data": {
      "text/plain": [
       "(8224, 20)"
      ]
     },
     "execution_count": 23,
     "metadata": {},
     "output_type": "execute_result"
    }
   ],
   "source": []
  },
  {
   "cell_type": "code",
   "execution_count": null,
   "metadata": {},
   "outputs": [],
   "source": []
  },
  {
   "cell_type": "code",
   "execution_count": null,
   "metadata": {},
   "outputs": [],
   "source": []
  }
 ],
 "metadata": {
  "kernelspec": {
   "display_name": "Python 3",
   "language": "python",
   "name": "python3"
  },
  "language_info": {
   "codemirror_mode": {
    "name": "ipython",
    "version": 3
   },
   "file_extension": ".py",
   "mimetype": "text/x-python",
   "name": "python",
   "nbconvert_exporter": "python",
   "pygments_lexer": "ipython3",
   "version": "3.6.8"
  }
 },
 "nbformat": 4,
 "nbformat_minor": 2
}
