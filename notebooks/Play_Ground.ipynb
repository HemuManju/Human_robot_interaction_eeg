{
 "cells": [
  {
   "cell_type": "code",
   "execution_count": 1,
   "metadata": {},
   "outputs": [],
   "source": [
    "from braindecode.models.shallow_fbcsp import ShallowFBCSPNet\n",
    "from braindecode.models.eegnet import EEGNetv4\n",
    "from braindecode.models.deep4 import Deep4Net\n",
    "import torch\n",
    "%run Utility_Functions.ipynb"
   ]
  },
  {
   "cell_type": "code",
   "execution_count": 2,
   "metadata": {},
   "outputs": [],
   "source": [
    "n_chans = 20\n",
    "n_classes = 2\n",
    "input_time_length = 512\n",
    "shallow_model = ShallowFBCSPNet(n_chans, n_classes, input_time_length=input_time_length,\n",
    "                            final_conv_length='auto').create_network()\n",
    "\n",
    "eeg_model = EEGNetv4(n_chans, n_classes, input_time_length=input_time_length,\n",
    "                            final_conv_length='auto').create_network()\n",
    "\n",
    "deep_model = Deep4Net(n_chans, n_classes, input_time_length=input_time_length,\n",
    "                            final_conv_length='auto').create_network()"
   ]
  },
  {
   "cell_type": "code",
   "execution_count": 3,
   "metadata": {},
   "outputs": [],
   "source": [
    "torch.save(deep_model, 'deep_model.pth')\n",
    "torch.save(eeg_model, 'eeg_model.pth')\n",
    "torch.save(shallow_model, 'shallow_model.pth')"
   ]
  },
  {
   "cell_type": "code",
   "execution_count": 4,
   "metadata": {},
   "outputs": [
    {
     "data": {
      "text/plain": [
       "35362"
      ]
     },
     "execution_count": 4,
     "metadata": {},
     "output_type": "execute_result"
    }
   ],
   "source": [
    "_get_n_params(shallow_model)"
   ]
  },
  {
   "cell_type": "code",
   "execution_count": 5,
   "metadata": {},
   "outputs": [
    {
     "data": {
      "text/plain": [
       "Sequential(\n",
       "  (dimshuffle): Expression(expression=_transpose_time_to_spat)\n",
       "  (conv_time): Conv2d(1, 40, kernel_size=(25, 1), stride=(1, 1))\n",
       "  (conv_spat): Conv2d(40, 40, kernel_size=(1, 20), stride=(1, 1), bias=False)\n",
       "  (bnorm): BatchNorm2d(40, eps=1e-05, momentum=0.1, affine=True, track_running_stats=True)\n",
       "  (conv_nonlin): Expression(expression=square)\n",
       "  (pool): AvgPool2d(kernel_size=(75, 1), stride=(15, 1), padding=0)\n",
       "  (pool_nonlin): Expression(expression=safe_log)\n",
       "  (drop): Dropout(p=0.5)\n",
       "  (conv_classifier): Conv2d(40, 2, kernel_size=(28, 1), stride=(1, 1))\n",
       "  (softmax): LogSoftmax()\n",
       "  (squeeze): Expression(expression=_squeeze_final_output)\n",
       ")"
      ]
     },
     "execution_count": 5,
     "metadata": {},
     "output_type": "execute_result"
    }
   ],
   "source": [
    "shallow_model"
   ]
  },
  {
   "cell_type": "code",
   "execution_count": 9,
   "metadata": {},
   "outputs": [
    {
     "name": "stdout",
     "output_type": "stream",
     "text": [
      "torch.Size([10, 1, 20, 256])\n"
     ]
    }
   ],
   "source": [
    "import torch\n",
    "import numpy as np\n",
    "import torch.nn as nn\n",
    "\n",
    "a = torch.from_numpy(np.random.rand(10, 1, 20, 256)).type(torch.float32)\n",
    "# a = a.permute(0, 3, 2, 1)\n",
    "print(a.shape)"
   ]
  },
  {
   "cell_type": "code",
   "execution_count": 12,
   "metadata": {},
   "outputs": [
    {
     "name": "stdout",
     "output_type": "stream",
     "text": [
      "torch.Size([10, 1, 20, 256])\n",
      "torch.Size([10, 40, 20, 242])\n",
      "torch.Size([10, 40, 11, 242])\n",
      "torch.Size([10, 40, 11, 242])\n",
      "torch.Size([10, 40, 11, 12])\n",
      "torch.Size([10, 2, 1, 1])\n"
     ]
    }
   ],
   "source": [
    "\n",
    "conv_time = nn.Conv2d(1, 40, kernel_size=(1, 15), stride=1)\n",
    "conv_space = nn.Conv2d(40, 40, kernel_size=(10, 1), stride=1, bias=False)\n",
    "avg_pooling = nn.AvgPool2d(kernel_size=(1, 75), stride=(1, 15))\n",
    "conv_classify = nn.Conv2d(40, 2, kernel_size=(11, 12), stride=1, bias=False)\n",
    "\n",
    "print(a.shape)\n",
    "b = conv_time(a)\n",
    "print(b.shape)\n",
    "c = conv_space(b)\n",
    "print(c.shape)\n",
    "d = torch.mul(c, c)\n",
    "print(d.shape)\n",
    "e = avg_pooling(d)\n",
    "print(e.shape)\n",
    "f = conv_classify(e)\n",
    "print(f.shape)"
   ]
  },
  {
   "cell_type": "code",
   "execution_count": null,
   "metadata": {},
   "outputs": [],
   "source": []
  },
  {
   "cell_type": "code",
   "execution_count": null,
   "metadata": {},
   "outputs": [],
   "source": []
  }
 ],
 "metadata": {
  "kernelspec": {
   "display_name": "Python 3",
   "language": "python",
   "name": "python3"
  },
  "language_info": {
   "codemirror_mode": {
    "name": "ipython",
    "version": 3
   },
   "file_extension": ".py",
   "mimetype": "text/x-python",
   "name": "python",
   "nbconvert_exporter": "python",
   "pygments_lexer": "ipython3",
   "version": "3.6.8"
  }
 },
 "nbformat": 4,
 "nbformat_minor": 2
}
